{
 "cells": [
  {
   "cell_type": "code",
   "execution_count": 1,
   "id": "45392682-bd33-4900-9b72-5a5fd08b7472",
   "metadata": {},
   "outputs": [
    {
     "name": "stdout",
     "output_type": "stream",
     "text": [
      "\n",
      "Epoch 1/10\n"
     ]
    },
    {
     "name": "stderr",
     "output_type": "stream",
     "text": [
      "                                                                                                                       \r"
     ]
    },
    {
     "name": "stdout",
     "output_type": "stream",
     "text": [
      "Training Loss: 1.2876, Accuracy: 0.5048\n"
     ]
    },
    {
     "name": "stderr",
     "output_type": "stream",
     "text": [
      "                                                                                                                       \r"
     ]
    },
    {
     "name": "stdout",
     "output_type": "stream",
     "text": [
      "Validation Loss: 0.9269, Accuracy: 0.6426\n",
      "\n",
      "Epoch 2/10\n"
     ]
    },
    {
     "name": "stderr",
     "output_type": "stream",
     "text": [
      "                                                                                                                       \r"
     ]
    },
    {
     "name": "stdout",
     "output_type": "stream",
     "text": [
      "Training Loss: 0.8353, Accuracy: 0.6836\n"
     ]
    },
    {
     "name": "stderr",
     "output_type": "stream",
     "text": [
      "                                                                                                                       \r"
     ]
    },
    {
     "name": "stdout",
     "output_type": "stream",
     "text": [
      "Validation Loss: 0.6831, Accuracy: 0.7571\n",
      "\n",
      "Epoch 3/10\n"
     ]
    },
    {
     "name": "stderr",
     "output_type": "stream",
     "text": [
      "                                                                                                                       \r"
     ]
    },
    {
     "name": "stdout",
     "output_type": "stream",
     "text": [
      "Training Loss: 0.6136, Accuracy: 0.7726\n"
     ]
    },
    {
     "name": "stderr",
     "output_type": "stream",
     "text": [
      "                                                                                                                       \r"
     ]
    },
    {
     "name": "stdout",
     "output_type": "stream",
     "text": [
      "Validation Loss: 0.5528, Accuracy: 0.7933\n",
      "\n",
      "Epoch 4/10\n"
     ]
    },
    {
     "name": "stderr",
     "output_type": "stream",
     "text": [
      "                                                                                                                       \r"
     ]
    },
    {
     "name": "stdout",
     "output_type": "stream",
     "text": [
      "Training Loss: 0.4509, Accuracy: 0.8391\n"
     ]
    },
    {
     "name": "stderr",
     "output_type": "stream",
     "text": [
      "                                                                                                                       \r"
     ]
    },
    {
     "name": "stdout",
     "output_type": "stream",
     "text": [
      "Validation Loss: 0.4391, Accuracy: 0.8432\n",
      "\n",
      "Epoch 5/10\n"
     ]
    },
    {
     "name": "stderr",
     "output_type": "stream",
     "text": [
      "                                                                                                                       \r"
     ]
    },
    {
     "name": "stdout",
     "output_type": "stream",
     "text": [
      "Training Loss: 0.3456, Accuracy: 0.8792\n"
     ]
    },
    {
     "name": "stderr",
     "output_type": "stream",
     "text": [
      "                                                                                                                       \r"
     ]
    },
    {
     "name": "stdout",
     "output_type": "stream",
     "text": [
      "Validation Loss: 0.3848, Accuracy: 0.8725\n",
      "\n",
      "Epoch 6/10\n"
     ]
    },
    {
     "name": "stderr",
     "output_type": "stream",
     "text": [
      "                                                                                                                       \r"
     ]
    },
    {
     "name": "stdout",
     "output_type": "stream",
     "text": [
      "Training Loss: 0.2736, Accuracy: 0.9003\n"
     ]
    },
    {
     "name": "stderr",
     "output_type": "stream",
     "text": [
      "                                                                                                                       \r"
     ]
    },
    {
     "name": "stdout",
     "output_type": "stream",
     "text": [
      "Validation Loss: 0.3375, Accuracy: 0.8785\n",
      "\n",
      "Epoch 7/10\n"
     ]
    },
    {
     "name": "stderr",
     "output_type": "stream",
     "text": [
      "                                                                                                                       \r"
     ]
    },
    {
     "name": "stdout",
     "output_type": "stream",
     "text": [
      "Training Loss: 0.2036, Accuracy: 0.9250\n"
     ]
    },
    {
     "name": "stderr",
     "output_type": "stream",
     "text": [
      "                                                                                                                       \r"
     ]
    },
    {
     "name": "stdout",
     "output_type": "stream",
     "text": [
      "Validation Loss: 0.3248, Accuracy: 0.8901\n",
      "\n",
      "Epoch 8/10\n"
     ]
    },
    {
     "name": "stderr",
     "output_type": "stream",
     "text": [
      "                                                                                                                       \r"
     ]
    },
    {
     "name": "stdout",
     "output_type": "stream",
     "text": [
      "Training Loss: 0.1362, Accuracy: 0.9519\n"
     ]
    },
    {
     "name": "stderr",
     "output_type": "stream",
     "text": [
      "                                                                                                                       \r"
     ]
    },
    {
     "name": "stdout",
     "output_type": "stream",
     "text": [
      "Validation Loss: 0.3090, Accuracy: 0.9047\n",
      "\n",
      "Epoch 9/10\n"
     ]
    },
    {
     "name": "stderr",
     "output_type": "stream",
     "text": [
      "                                                                                                                       \r"
     ]
    },
    {
     "name": "stdout",
     "output_type": "stream",
     "text": [
      "Training Loss: 0.0973, Accuracy: 0.9672\n"
     ]
    },
    {
     "name": "stderr",
     "output_type": "stream",
     "text": [
      "                                                                                                                       \r"
     ]
    },
    {
     "name": "stdout",
     "output_type": "stream",
     "text": [
      "Validation Loss: 0.3874, Accuracy: 0.8780\n",
      "\n",
      "Epoch 10/10\n"
     ]
    },
    {
     "name": "stderr",
     "output_type": "stream",
     "text": [
      "                                                                                                                       \r"
     ]
    },
    {
     "name": "stdout",
     "output_type": "stream",
     "text": [
      "Training Loss: 0.0648, Accuracy: 0.9819\n"
     ]
    },
    {
     "name": "stderr",
     "output_type": "stream",
     "text": [
      "C:\\Users\\Jaber\\AppData\\Local\\Temp\\ipykernel_4484\\921443991.py:425: FutureWarning: You are using `torch.load` with `weights_only=False` (the current default value), which uses the default pickle module implicitly. It is possible to construct malicious pickle data which will execute arbitrary code during unpickling (See https://github.com/pytorch/pytorch/blob/main/SECURITY.md#untrusted-models for more details). In a future release, the default value for `weights_only` will be flipped to `True`. This limits the functions that could be executed during unpickling. Arbitrary objects will no longer be allowed to be loaded via this mode unless they are explicitly allowlisted by the user via `torch.serialization.add_safe_globals`. We recommend you start setting `weights_only=True` for any use case where you don't have full control of the loaded file. Please open an issue on GitHub for any issues related to this experimental feature.\n",
      "  model.load_state_dict(torch.load('best_model.pth'))\n"
     ]
    },
    {
     "name": "stdout",
     "output_type": "stream",
     "text": [
      "Validation Loss: 0.4281, Accuracy: 0.8936\n"
     ]
    },
    {
     "name": "stderr",
     "output_type": "stream",
     "text": [
      "                                                                                                                       \r"
     ]
    },
    {
     "name": "stdout",
     "output_type": "stream",
     "text": [
      "Test Loss: 0.3663, Accuracy: 0.8891\n",
      "Precision: 0.8930, Recall: 0.8891, F1 Score: 0.8905\n"
     ]
    },
    {
     "data": {
      "image/png": "[encoded data removed]",
      "text/plain": [
       "<Figure size 1200x400 with 2 Axes>"
      ]
     },
     "metadata": {},
     "output_type": "display_data"
    }
   ],
   "source": [
    "# PyTorch Implementation of Swin Transformer, ConvNeXt, and AGFF with Revisions\n",
    "\n",
    "import torch\n",
    "import torch.nn as nn\n",
    "import torch.nn.functional as F\n",
    "from torchvision import transforms\n",
    "from torch.utils.data import DataLoader, Dataset, random_split\n",
    "from torch.optim import Adam\n",
    "from sklearn.metrics import precision_score, recall_score, f1_score\n",
    "from sklearn.model_selection import train_test_split\n",
    "import pandas as pd\n",
    "import numpy as np\n",
    "import matplotlib.pyplot as plt\n",
    "from PIL import Image\n",
    "import os\n",
    "from datetime import datetime\n",
    "from tqdm import tqdm  # For progress bars\n",
    "\n",
    "# Parameters\n",
    "num_classes = 6\n",
    "image_size = (224, 224)\n",
    "dropout_rate = 0.1\n",
    "batch_size = 8\n",
    "epochs = 10\n",
    "learning_rate = 1e-4\n",
    "window_size = 7  # Swin Transformer window size\n",
    "device = torch.device('cuda' if torch.cuda.is_available() else 'cpu')\n",
    "\n",
    "# Attention-Guided Feature Fusion (AGFF) Layer with Feature Calibration\n",
    "class AttentionGuidedFeatureFusion(nn.Module):\n",
    "    def __init__(self, conv_channels=768, swin_channels=768):\n",
    "        super(AttentionGuidedFeatureFusion, self).__init__()\n",
    "        num_channels = (conv_channels // 2) + (swin_channels // 2)  # 384 + 384 = 768\n",
    "\n",
    "        # Spatial Attention Mechanism\n",
    "        self.conv_spatial = nn.Conv2d(num_channels, 1, kernel_size=1)\n",
    "        self.sigmoid_spatial = nn.Sigmoid()\n",
    "\n",
    "        # Channel Attention Mechanism\n",
    "        self.global_avg_pool = nn.AdaptiveAvgPool2d(1)\n",
    "        self.dense1 = nn.Linear(num_channels, num_channels // 8)  # 768 // 8 = 96\n",
    "        self.relu = nn.ReLU()\n",
    "        self.dense2 = nn.Linear(num_channels // 8, num_channels)\n",
    "        self.sigmoid_channel = nn.Sigmoid()\n",
    "\n",
    "        # Feature calibration layers\n",
    "        self.norm1 = nn.LayerNorm(conv_channels)\n",
    "        self.norm2 = nn.LayerNorm(swin_channels)\n",
    "        self.proj_conv = nn.Linear(conv_channels, conv_channels // 2)\n",
    "        self.proj_swin = nn.Linear(swin_channels, swin_channels // 2)\n",
    "\n",
    "        # Re-weighting parameters\n",
    "        self.weight_conv = nn.Parameter(torch.ones(1))\n",
    "        self.weight_swin = nn.Parameter(torch.ones(1))\n",
    "\n",
    "    def forward(self, conv_features, swin_features):\n",
    "        # Feature Calibration\n",
    "        B, C, H, W = conv_features.shape\n",
    "        conv_features = conv_features.permute(0, 2, 3, 1).contiguous()  # [B, H, W, C]\n",
    "        swin_features = swin_features.permute(0, 2, 3, 1).contiguous()\n",
    "\n",
    "        conv_features = self.norm1(conv_features)\n",
    "        swin_features = self.norm2(swin_features)\n",
    "\n",
    "        conv_features = self.proj_conv(conv_features)  # [B, H, W, 384]\n",
    "        swin_features = self.proj_swin(swin_features)  # [B, H, W, 384]\n",
    "\n",
    "        conv_features = conv_features * self.weight_conv\n",
    "        swin_features = swin_features * self.weight_swin\n",
    "\n",
    "        # Concatenate calibrated features\n",
    "        combined_features = torch.cat([conv_features, swin_features], dim=-1)  # [B, H, W, 768]\n",
    "        combined_features = combined_features.permute(0, 3, 1, 2).contiguous()  # [B, 768, H, W]\n",
    "\n",
    "        # Spatial Attention\n",
    "        spatial_attention = self.conv_spatial(combined_features)\n",
    "        spatial_attention = self.sigmoid_spatial(spatial_attention)\n",
    "        spatial_attention = spatial_attention * combined_features\n",
    "\n",
    "        # Channel Attention\n",
    "        channel_attention = self.global_avg_pool(combined_features).view(B, -1)\n",
    "        channel_attention = self.dense1(channel_attention)\n",
    "        channel_attention = self.relu(channel_attention)\n",
    "        channel_attention = self.dense2(channel_attention)\n",
    "        channel_attention = self.sigmoid_channel(channel_attention).view(B, -1, 1, 1)\n",
    "        channel_attention = combined_features * channel_attention\n",
    "\n",
    "        # Fuse\n",
    "        fused_output = spatial_attention + channel_attention\n",
    "        return fused_output\n",
    "\n",
    "# Swin Transformer Components\n",
    "class SwinTransformerBlock(nn.Module):\n",
    "    def __init__(self, dim, num_heads, window_size=7, mlp_ratio=4., dropout=0.):\n",
    "        super(SwinTransformerBlock, self).__init__()\n",
    "        self.dim = dim\n",
    "        self.num_heads = num_heads\n",
    "        self.window_size = window_size\n",
    "\n",
    "        self.norm1 = nn.LayerNorm(dim)\n",
    "        self.attn = nn.MultiheadAttention(embed_dim=dim, num_heads=num_heads, dropout=dropout)\n",
    "        self.drop1 = nn.Dropout(dropout)\n",
    "        self.norm2 = nn.LayerNorm(dim)\n",
    "        self.mlp = nn.Sequential(\n",
    "            nn.Linear(dim, int(dim * mlp_ratio)),\n",
    "            nn.GELU(),\n",
    "            nn.Linear(int(dim * mlp_ratio), dim),\n",
    "            nn.Dropout(dropout)\n",
    "        )\n",
    "\n",
    "    def forward(self, x):\n",
    "        # x: [B, N, C]\n",
    "        B, N, C = x.shape\n",
    "        shortcut = x\n",
    "        x = self.norm1(x)\n",
    "        x = x.transpose(0, 1)  # [N, B, C] for MultiheadAttention\n",
    "        attn_output, _ = self.attn(x, x, x)\n",
    "        x = attn_output.transpose(0, 1)\n",
    "        x = self.drop1(x)\n",
    "        x = shortcut + x\n",
    "\n",
    "        # MLP\n",
    "        shortcut2 = x\n",
    "        x = self.norm2(x)\n",
    "        x = self.mlp(x)\n",
    "        x = shortcut2 + x\n",
    "\n",
    "        return x\n",
    "\n",
    "class SwinTransformerStage(nn.Module):\n",
    "    def __init__(self, dim, num_heads, window_size=7, num_blocks=2, mlp_ratio=4., dropout=0., downsample=True):\n",
    "        super(SwinTransformerStage, self).__init__()\n",
    "        self.blocks = nn.ModuleList([\n",
    "            SwinTransformerBlock(dim, num_heads, window_size, mlp_ratio, dropout)\n",
    "            for _ in range(num_blocks)\n",
    "        ])\n",
    "        self.norm = nn.LayerNorm(dim)\n",
    "        self.downsample = downsample\n",
    "        if self.downsample:\n",
    "            self.downsample_layer = nn.Conv2d(dim, dim * 2, kernel_size=2, stride=2)\n",
    "\n",
    "    def forward(self, x, H, W):\n",
    "        for block in self.blocks:\n",
    "            x = block(x)\n",
    "        x = self.norm(x)\n",
    "        x = x.view(-1, H, W, x.size(-1)).permute(0, 3, 1, 2).contiguous()\n",
    "        if self.downsample:\n",
    "            x = self.downsample_layer(x)\n",
    "            H, W = H // 2, W // 2\n",
    "            x = x.flatten(2).transpose(1, 2)\n",
    "        else:\n",
    "            x = x.flatten(2).transpose(1, 2)\n",
    "        return x, H, W\n",
    "\n",
    "class SwinTransformer(nn.Module):\n",
    "    def __init__(self, embed_dim=96, depths=[2, 2, 6, 2], num_heads=[3, 6, 12, 24],\n",
    "                 window_size=7, mlp_ratio=4., dropout=0.):\n",
    "        super(SwinTransformer, self).__init__()\n",
    "        self.embed_dim = embed_dim\n",
    "        self.patch_embed = nn.Conv2d(3, embed_dim, kernel_size=4, stride=4)\n",
    "        self.stages = nn.ModuleList()\n",
    "        dims = [embed_dim * (2 ** i) for i in range(len(depths))]\n",
    "        for i in range(len(depths)):\n",
    "            stage = SwinTransformerStage(\n",
    "                dim=dims[i],\n",
    "                num_heads=num_heads[i],\n",
    "                window_size=window_size,\n",
    "                num_blocks=depths[i],\n",
    "                mlp_ratio=mlp_ratio,\n",
    "                dropout=dropout,\n",
    "                downsample=(i < len(depths) - 1)\n",
    "            )\n",
    "            self.stages.append(stage)\n",
    "\n",
    "    def forward(self, x):\n",
    "        x = self.patch_embed(x)  # [B, C, H, W]\n",
    "        B, C, H, W = x.shape\n",
    "        x = x.flatten(2).transpose(1, 2)  # [B, N, C]\n",
    "        for stage in self.stages:\n",
    "            x, H, W = stage(x, H, W)\n",
    "        x = x.view(B, H, W, -1).permute(0, 3, 1, 2).contiguous()\n",
    "        return x  # [B, C, H, W]\n",
    "\n",
    "# ConvNeXt Components\n",
    "class ConvNeXtBlock(nn.Module):\n",
    "    def __init__(self, dim, drop_path=0., layer_scale_init_value=1e-6):\n",
    "        super(ConvNeXtBlock, self).__init__()\n",
    "        self.dwconv = nn.Conv2d(dim, dim, kernel_size=7, padding=3, groups=dim)\n",
    "        self.norm = nn.LayerNorm(dim)\n",
    "        self.pwconv1 = nn.Linear(dim, dim * 4)\n",
    "        self.act = nn.GELU()\n",
    "        self.pwconv2 = nn.Linear(dim * 4, dim)\n",
    "        self.gamma = nn.Parameter(layer_scale_init_value * torch.ones((dim)), requires_grad=True)\n",
    "        self.drop_path = nn.Dropout(drop_path) if drop_path > 0. else nn.Identity()\n",
    "\n",
    "    def forward(self, x):\n",
    "        input = x\n",
    "        x = self.dwconv(x)\n",
    "        x = x.permute(0, 2, 3, 1).contiguous()  # NCHW -> NHWC\n",
    "        x = self.norm(x)\n",
    "        x = self.pwconv1(x)\n",
    "        x = self.act(x)\n",
    "        x = self.pwconv2(x)\n",
    "        x = self.gamma * x\n",
    "        x = x.permute(0, 3, 1, 2).contiguous()  # NHWC -> NCHW\n",
    "        x = input + self.drop_path(x)\n",
    "        return x\n",
    "\n",
    "class ConvNeXtStage(nn.Module):\n",
    "    def __init__(self, dim, depth, drop_path_rates, layer_scale_init_value=1e-6, downsample=True):\n",
    "        super(ConvNeXtStage, self).__init__()\n",
    "        self.blocks = nn.ModuleList([\n",
    "            ConvNeXtBlock(dim, drop_path=drop_path_rates[i], layer_scale_init_value=layer_scale_init_value)\n",
    "            for i in range(depth)\n",
    "        ])\n",
    "        self.downsample = downsample\n",
    "        if self.downsample:\n",
    "            self.downsample_layer = nn.Conv2d(dim, dim * 2, kernel_size=2, stride=2)\n",
    "\n",
    "    def forward(self, x):\n",
    "        for block in self.blocks:\n",
    "            x = block(x)\n",
    "        if self.downsample:\n",
    "            x = self.downsample_layer(x)\n",
    "        return x\n",
    "\n",
    "class ConvNeXt(nn.Module):\n",
    "    def __init__(self, in_chans=3, depths=[3, 3, 9, 3], dims=[96, 192, 384, 768],\n",
    "                 drop_path_rate=0.2, layer_scale_init_value=1e-6):\n",
    "        super(ConvNeXt, self).__init__()\n",
    "        self.downsample_layers = nn.ModuleList()\n",
    "        stem = nn.Conv2d(in_chans, dims[0], kernel_size=4, stride=4)\n",
    "        self.downsample_layers.append(stem)\n",
    "        self.stages = nn.ModuleList()\n",
    "        dp_rates = [x.item() for x in torch.linspace(0, drop_path_rate, sum(depths))]\n",
    "        cur = 0\n",
    "        for i in range(len(depths)):\n",
    "            stage = ConvNeXtStage(\n",
    "                dim=dims[i],\n",
    "                depth=depths[i],\n",
    "                drop_path_rates=dp_rates[cur:cur+depths[i]],\n",
    "                layer_scale_init_value=layer_scale_init_value,\n",
    "                downsample=(i < len(depths) - 1)\n",
    "            )\n",
    "            self.stages.append(stage)\n",
    "            cur += depths[i]\n",
    "\n",
    "    def forward(self, x):\n",
    "        x = self.downsample_layers[0](x)\n",
    "        for stage in self.stages:\n",
    "            x = stage(x)\n",
    "        return x  # [B, C, H, W]\n",
    "\n",
    "# Feature Alignment Layer\n",
    "class FeatureAlignmentLayer(nn.Module):\n",
    "    def __init__(self):\n",
    "        super(FeatureAlignmentLayer, self).__init__()\n",
    "\n",
    "    def forward(self, conv_features, swin_features):\n",
    "        conv_shape = conv_features.shape[-2:]\n",
    "        swin_features = F.interpolate(swin_features, size=conv_shape, mode='bilinear', align_corners=False)\n",
    "        return swin_features\n",
    "\n",
    "# Create the combined model\n",
    "class ConvNeXtSwinModel(nn.Module):\n",
    "    def __init__(self, num_classes=6):\n",
    "        super(ConvNeXtSwinModel, self).__init__()\n",
    "        self.convnext = ConvNeXt()\n",
    "        self.swin_transformer = SwinTransformer()\n",
    "        self.feature_alignment = FeatureAlignmentLayer()\n",
    "        self.agff = AttentionGuidedFeatureFusion()\n",
    "        self.norm = nn.LayerNorm(768)\n",
    "        self.head = nn.Sequential(\n",
    "            nn.AdaptiveAvgPool2d(1),\n",
    "            nn.Flatten(),\n",
    "            nn.Dropout(dropout_rate),\n",
    "            nn.Linear(768, num_classes)\n",
    "        )\n",
    "\n",
    "    def forward(self, x):\n",
    "        conv_features = self.convnext(x)  # [B, 768, H, W]\n",
    "        swin_features = self.swin_transformer(x)  # [B, 768, H, W]\n",
    "        swin_features = self.feature_alignment(conv_features, swin_features)\n",
    "        fused_features = self.agff(conv_features, swin_features)\n",
    "        B, C, H, W = fused_features.shape\n",
    "        fused_features = fused_features.permute(0, 2, 3, 1).contiguous().view(-1, C)\n",
    "        fused_features = self.norm(fused_features)\n",
    "        fused_features = fused_features.view(B, H, W, C).permute(0, 3, 1, 2).contiguous()\n",
    "        output = self.head(fused_features)\n",
    "        return output\n",
    "\n",
    "# Instantiate Model\n",
    "model = ConvNeXtSwinModel(num_classes=num_classes).to(device)\n",
    "\n",
    "# Define Loss and Optimizer\n",
    "criterion = nn.CrossEntropyLoss()\n",
    "optimizer = Adam(model.parameters(), lr=learning_rate)\n",
    "\n",
    "# Data Loading and Preprocessing\n",
    "csv_path = r\"C:\\Users\\Jaber\\OneDrive - University of Florida\\Educational\\GitHub\\Ultrasound_Fetal\\Data\\FETAL_PLANES_DB_data.csv\"\n",
    "df = pd.read_csv(csv_path, delimiter=\";\")\n",
    "\n",
    "# Shuffle the DataFrame\n",
    "df = df.sample(frac=1, random_state=42).reset_index(drop=True)\n",
    "\n",
    "# Add .png extension to each image name\n",
    "df[\"Image_name\"] = df[\"Image_name\"].apply(lambda x: f\"{x}.png\")\n",
    "\n",
    "# Split into train+val and test sets\n",
    "train_val_df, test_df = train_test_split(df, test_size=0.2, random_state=42)\n",
    "\n",
    "# Define Transforms\n",
    "transform = transforms.Compose([\n",
    "    transforms.Resize(image_size),\n",
    "    transforms.ToTensor(),\n",
    "])\n",
    "\n",
    "# Custom Dataset\n",
    "class CustomImageDataset(Dataset):\n",
    "    def __init__(self, df, img_dir, transform=None):\n",
    "        self.df = df.reset_index(drop=True)\n",
    "        self.img_dir = img_dir\n",
    "        self.transform = transform\n",
    "        self.classes = sorted(df['Plane'].unique())\n",
    "        self.class_to_idx = {cls_name: idx for idx, cls_name in enumerate(self.classes)}\n",
    "\n",
    "    def __len__(self):\n",
    "        return len(self.df)\n",
    "\n",
    "    def __getitem__(self, idx):\n",
    "        img_name = self.df.loc[idx, 'Image_name']\n",
    "        label_name = self.df.loc[idx, 'Plane']\n",
    "        label = self.class_to_idx[label_name]\n",
    "        img_path = os.path.join(self.img_dir, img_name)\n",
    "        image = Image.open(img_path).convert('RGB')\n",
    "        if self.transform:\n",
    "            image = self.transform(image)\n",
    "        return image, label\n",
    "\n",
    "# Image Directory\n",
    "img_dir = r\"C:\\Users\\Jaber\\OneDrive - University of Florida\\Educational\\GitHub\\Ultrasound_Fetal\\Data\\Images\"\n",
    "\n",
    "# Datasets\n",
    "full_dataset = CustomImageDataset(train_val_df, img_dir, transform)\n",
    "test_dataset = CustomImageDataset(test_df, img_dir, transform)\n",
    "\n",
    "# Train-Validation Split\n",
    "train_size = int(0.8 * len(full_dataset))\n",
    "val_size = len(full_dataset) - train_size\n",
    "train_dataset, val_dataset = random_split(full_dataset, [train_size, val_size], generator=torch.Generator().manual_seed(42))\n",
    "\n",
    "# DataLoaders\n",
    "train_loader = DataLoader(train_dataset, batch_size=batch_size, shuffle=True, num_workers=0)  # Set num_workers=0\n",
    "val_loader = DataLoader(val_dataset, batch_size=batch_size, shuffle=False, num_workers=0)    # Set num_workers=0\n",
    "test_loader = DataLoader(test_dataset, batch_size=batch_size, shuffle=False, num_workers=0)  # Set num_workers=0\n",
    "\n",
    "# Training Loop\n",
    "best_val_loss = float('inf')\n",
    "train_losses = []\n",
    "val_losses = []\n",
    "train_accuracies = []\n",
    "val_accuracies = []\n",
    "patience_counter = 0\n",
    "max_patience = 3  # Early stopping patience\n",
    "\n",
    "for epoch in range(epochs):\n",
    "    model.train()\n",
    "    running_loss = 0.0\n",
    "    correct = 0\n",
    "    total = 0\n",
    "    print(f\"\\nEpoch {epoch + 1}/{epochs}\")\n",
    "    for batch_idx, (inputs, targets) in enumerate(tqdm(train_loader, desc=f\"Training Epoch {epoch + 1}\", leave=False)):\n",
    "        inputs, targets = inputs.to(device), targets.to(device)\n",
    "        optimizer.zero_grad()\n",
    "        outputs = model(inputs)\n",
    "        loss = criterion(outputs, targets)\n",
    "        loss.backward()\n",
    "        optimizer.step()\n",
    "\n",
    "        # Statistics\n",
    "        running_loss += loss.item() * inputs.size(0)\n",
    "        _, predicted = outputs.max(1)\n",
    "        total += targets.size(0)\n",
    "        correct += predicted.eq(targets).sum().item()\n",
    "\n",
    "    epoch_loss = running_loss / len(train_loader.dataset)\n",
    "    epoch_acc = correct / total\n",
    "    train_losses.append(epoch_loss)\n",
    "    train_accuracies.append(epoch_acc)\n",
    "    print(f\"Training Loss: {epoch_loss:.4f}, Accuracy: {epoch_acc:.4f}\")\n",
    "\n",
    "    # Validation\n",
    "    model.eval()\n",
    "    val_running_loss = 0.0\n",
    "    val_correct = 0\n",
    "    val_total = 0\n",
    "    with torch.no_grad():\n",
    "        for inputs, targets in tqdm(val_loader, desc=\"Validation\", leave=False):\n",
    "            inputs, targets = inputs.to(device), targets.to(device)\n",
    "            outputs = model(inputs)\n",
    "            loss = criterion(outputs, targets)\n",
    "            val_running_loss += loss.item() * inputs.size(0)\n",
    "            _, predicted = outputs.max(1)\n",
    "            val_total += targets.size(0)\n",
    "            val_correct += predicted.eq(targets).sum().item()\n",
    "\n",
    "    val_loss = val_running_loss / len(val_loader.dataset)\n",
    "    val_acc = val_correct / val_total\n",
    "    val_losses.append(val_loss)\n",
    "    val_accuracies.append(val_acc)\n",
    "    print(f\"Validation Loss: {val_loss:.4f}, Accuracy: {val_acc:.4f}\")\n",
    "\n",
    "    # Early Stopping\n",
    "    if val_loss < best_val_loss:\n",
    "        best_val_loss = val_loss\n",
    "        torch.save(model.state_dict(), 'best_model.pth')\n",
    "        patience_counter = 0\n",
    "    else:\n",
    "        patience_counter += 1\n",
    "        if patience_counter > max_patience:\n",
    "            print(\"Early stopping triggered\")\n",
    "            break\n",
    "\n",
    "# Load Best Model\n",
    "model.load_state_dict(torch.load('best_model.pth'))\n",
    "\n",
    "# Evaluate on Test Data\n",
    "model.eval()\n",
    "test_running_loss = 0.0\n",
    "test_correct = 0\n",
    "test_total = 0\n",
    "all_targets = []\n",
    "all_preds = []\n",
    "\n",
    "with torch.no_grad():\n",
    "    for inputs, targets in tqdm(test_loader, desc=\"Testing\", leave=False):\n",
    "        inputs, targets = inputs.to(device), targets.to(device)\n",
    "        outputs = model(inputs)\n",
    "        loss = criterion(outputs, targets)\n",
    "        test_running_loss += loss.item() * inputs.size(0)\n",
    "        _, predicted = outputs.max(1)\n",
    "        test_total += targets.size(0)\n",
    "        test_correct += predicted.eq(targets).sum().item()\n",
    "        all_targets.extend(targets.cpu().numpy())\n",
    "        all_preds.extend(predicted.cpu().numpy())\n",
    "\n",
    "test_loss = test_running_loss / len(test_loader.dataset)\n",
    "test_acc = test_correct / test_total\n",
    "print(f\"Test Loss: {test_loss:.4f}, Accuracy: {test_acc:.4f}\")\n",
    "\n",
    "# Calculate Metrics\n",
    "precision = precision_score(all_targets, all_preds, average='weighted')\n",
    "recall = recall_score(all_targets, all_preds, average='weighted')\n",
    "f1 = f1_score(all_targets, all_preds, average='weighted')\n",
    "print(f\"Precision: {precision:.4f}, Recall: {recall:.4f}, F1 Score: {f1:.4f}\")\n",
    "\n",
    "# Visualization of Training History\n",
    "plt.figure(figsize=(12, 4))\n",
    "plt.subplot(1, 2, 1)\n",
    "plt.plot(train_accuracies, label='Training Accuracy')\n",
    "plt.plot(val_accuracies, label='Validation Accuracy')\n",
    "plt.xlabel('Epochs')\n",
    "plt.ylabel('Accuracy')\n",
    "plt.legend()\n",
    "plt.title('Training and Validation Accuracy')\n",
    "\n",
    "plt.subplot(1, 2, 2)\n",
    "plt.plot(train_losses, label='Training Loss')\n",
    "plt.plot(val_losses, label='Validation Loss')\n",
    "plt.xlabel('Epochs')\n",
    "plt.ylabel('Loss')\n",
    "plt.legend()\n",
    "plt.title('Training and Validation Loss')\n",
    "plt.show()\n"
   ]
  },
  {
   "cell_type": "code",
   "execution_count": null,
   "id": "bf4047d0-57b4-49fb-a70c-37a0d33083f1",
   "metadata": {},
   "outputs": [],
   "source": []
  },
  {
   "cell_type": "code",
   "execution_count": null,
   "id": "be428b09-2516-47c1-b5a7-6c1f8ef1b799",
   "metadata": {},
   "outputs": [],
   "source": []
  },
  {
   "cell_type": "code",
   "execution_count": null,
   "id": "fda9ac81-14bf-4ee0-b392-17a1db6c419f",
   "metadata": {},
   "outputs": [],
   "source": []
  },
  {
   "cell_type": "code",
   "execution_count": null,
   "id": "4f591fc5-ffcb-4751-821b-34ce4ec10c99",
   "metadata": {},
   "outputs": [],
   "source": []
  }
 ],
 "metadata": {
  "kernelspec": {
   "display_name": "Python 3 (ipykernel)",
   "language": "python",
   "name": "python3"
  },
  "language_info": {
   "codemirror_mode": {
    "name": "ipython",
    "version": 3
   },
   "file_extension": ".py",
   "mimetype": "text/x-python",
   "name": "python",
   "nbconvert_exporter": "python",
   "pygments_lexer": "ipython3",
   "version": "3.12.4"
  }
 },
 "nbformat": 4,
 "nbformat_minor": 5
}
